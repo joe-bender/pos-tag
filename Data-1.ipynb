{
 "cells": [
  {
   "cell_type": "code",
   "execution_count": 1,
   "metadata": {},
   "outputs": [],
   "source": [
    "import torch\n",
    "import torch.nn as nn\n",
    "from torch.functional import F\n",
    "import numpy as np\n",
    "import pandas as pd\n",
    "import matplotlib\n",
    "import matplotlib.pyplot as plt\n",
    "from pathlib import Path\n",
    "import re\n",
    "from collections import Counter\n",
    "import random\n",
    "from IPython.display import clear_output\n",
    "import math\n",
    "from tag2desc import tag2desc\n",
    "from zipfile import ZipFile"
   ]
  },
  {
   "cell_type": "markdown",
   "metadata": {},
   "source": [
    "# Download"
   ]
  },
  {
   "cell_type": "code",
   "execution_count": 2,
   "metadata": {},
   "outputs": [
    {
     "name": "stdout",
     "output_type": "stream",
     "text": [
      "penn-tree-bank.zip: Skipping, found more recently modified local copy (use --force to force download)\r\n"
     ]
    }
   ],
   "source": [
    "!kaggle datasets download -d nltkdata/penn-tree-bank"
   ]
  },
  {
   "cell_type": "code",
   "execution_count": 3,
   "metadata": {},
   "outputs": [],
   "source": [
    "with ZipFile('penn-tree-bank.zip', 'r') as z:\n",
    "    z.extractall()"
   ]
  },
  {
   "cell_type": "markdown",
   "metadata": {},
   "source": [
    "# Load into notebook"
   ]
  },
  {
   "cell_type": "code",
   "execution_count": 4,
   "metadata": {},
   "outputs": [
    {
     "data": {
      "text/plain": [
       "PosixPath('treebank/treebank/combined')"
      ]
     },
     "execution_count": 4,
     "metadata": {},
     "output_type": "execute_result"
    }
   ],
   "source": [
    "path = Path('.')\n",
    "path_comb = path/\"treebank\"/\"treebank\"/\"combined\"\n",
    "path_comb"
   ]
  },
  {
   "cell_type": "code",
   "execution_count": 5,
   "metadata": {},
   "outputs": [],
   "source": [
    "files = [o for o in path_comb.iterdir()]"
   ]
  },
  {
   "cell_type": "code",
   "execution_count": 6,
   "metadata": {},
   "outputs": [
    {
     "data": {
      "text/plain": [
       "PosixPath('treebank/treebank/combined/README')"
      ]
     },
     "execution_count": 6,
     "metadata": {},
     "output_type": "execute_result"
    }
   ],
   "source": [
    "files.pop(0)"
   ]
  },
  {
   "cell_type": "code",
   "execution_count": 7,
   "metadata": {},
   "outputs": [],
   "source": [
    "combineds = [file.open().read() for file in files]"
   ]
  },
  {
   "cell_type": "markdown",
   "metadata": {},
   "source": [
    "This is what the labeled documents look like:"
   ]
  },
  {
   "cell_type": "code",
   "execution_count": 8,
   "metadata": {},
   "outputs": [
    {
     "data": {
      "text/plain": [
       "'\\n( (S \\n    (NP-SBJ-1 \\n      (NP (NNP Rudolph) (NNP Agnew) )\\n      (, ,) \\n      (UCP \\n        (ADJP \\n          (NP (CD 55) (NNS years) )\\n          (JJ old) )\\n        (CC and) \\n        (NP \\n          (NP (JJ former) (NN chairman) )\\n          (PP (IN of) \\n            (NP (NNP Consolidated) (NNP Gold) (NNP Fields) (NNP PLC) ))))\\n      (, ,) )\\n    (VP (VBD was) \\n      (VP (VBN named) \\n        (S \\n          (NP-SBJ (-NONE- *-1) )\\n          (NP-PRD \\n            (NP (DT a) (JJ nonexecutive) (NN director) )\\n            (PP (IN of) \\n              (NP (DT this) (JJ British) (JJ industrial) (NN conglomerate) ))))))\\n    (. .) ))\\n'"
      ]
     },
     "execution_count": 8,
     "metadata": {},
     "output_type": "execute_result"
    }
   ],
   "source": [
    "combineds[1]"
   ]
  },
  {
   "cell_type": "markdown",
   "metadata": {},
   "source": [
    "I'll extract only the parts of speech tags and the words, which are contained in the innermost pairs of parentheses:"
   ]
  },
  {
   "cell_type": "code",
   "execution_count": 9,
   "metadata": {},
   "outputs": [],
   "source": [
    "def get_pairs(texts):\n",
    "    all_pairs = []\n",
    "    for text in texts:\n",
    "        pairs = re.findall(r'\\((\\S+) (\\S+)\\)', text)\n",
    "        all_pairs += pairs\n",
    "    return all_pairs"
   ]
  },
  {
   "cell_type": "code",
   "execution_count": 10,
   "metadata": {},
   "outputs": [
    {
     "data": {
      "text/plain": [
       "100676"
      ]
     },
     "execution_count": 10,
     "metadata": {},
     "output_type": "execute_result"
    }
   ],
   "source": [
    "all_pairs = get_pairs(combineds)\n",
    "len(all_pairs)"
   ]
  },
  {
   "cell_type": "markdown",
   "metadata": {},
   "source": [
    "I'll remove the tag \"-NONE-\" because it represents the absence of a word, and is not really a part-of-speech tag:"
   ]
  },
  {
   "cell_type": "code",
   "execution_count": 11,
   "metadata": {},
   "outputs": [
    {
     "data": {
      "text/plain": [
       "94084"
      ]
     },
     "execution_count": 11,
     "metadata": {},
     "output_type": "execute_result"
    }
   ],
   "source": [
    "all_pairs = [[tag,tok] for tag,tok in all_pairs if tag != '-NONE-']\n",
    "len(all_pairs)"
   ]
  },
  {
   "cell_type": "code",
   "execution_count": 12,
   "metadata": {},
   "outputs": [
    {
     "data": {
      "text/plain": [
       "[['NNP', 'Pierre'],\n",
       " ['NNP', 'Vinken'],\n",
       " [',', ','],\n",
       " ['CD', '61'],\n",
       " ['NNS', 'years'],\n",
       " ['JJ', 'old'],\n",
       " [',', ','],\n",
       " ['MD', 'will'],\n",
       " ['VB', 'join'],\n",
       " ['DT', 'the']]"
      ]
     },
     "execution_count": 12,
     "metadata": {},
     "output_type": "execute_result"
    }
   ],
   "source": [
    "all_pairs[:10]"
   ]
  },
  {
   "cell_type": "markdown",
   "metadata": {},
   "source": [
    "Now I'll separate them into a list of all tags and a list of all tokens:"
   ]
  },
  {
   "cell_type": "code",
   "execution_count": 13,
   "metadata": {},
   "outputs": [],
   "source": [
    "tags,toks = list(zip(*all_pairs))"
   ]
  },
  {
   "cell_type": "code",
   "execution_count": 14,
   "metadata": {},
   "outputs": [
    {
     "data": {
      "text/plain": [
       "('NNP', 'NNP', ',', 'CD', 'NNS', 'JJ', ',', 'MD', 'VB', 'DT')"
      ]
     },
     "execution_count": 14,
     "metadata": {},
     "output_type": "execute_result"
    }
   ],
   "source": [
    "tags[:10]"
   ]
  },
  {
   "cell_type": "code",
   "execution_count": 15,
   "metadata": {},
   "outputs": [
    {
     "data": {
      "text/plain": [
       "('Pierre', 'Vinken', ',', '61', 'years', 'old', ',', 'will', 'join', 'the')"
      ]
     },
     "execution_count": 15,
     "metadata": {},
     "output_type": "execute_result"
    }
   ],
   "source": [
    "toks[:10]"
   ]
  },
  {
   "cell_type": "markdown",
   "metadata": {},
   "source": [
    "# Descriptions"
   ]
  },
  {
   "cell_type": "markdown",
   "metadata": {},
   "source": [
    "A descriptive string for each tag abbreviation can be found [here](https://www.ling.upenn.edu/courses/Fall_2003/ling001/penn_treebank_pos.html)."
   ]
  },
  {
   "cell_type": "markdown",
   "metadata": {},
   "source": [
    "I've already created and imported a python file containing a dictionary that maps abbreviations to descriptions, so I'll create a corresponding list of descriptions:"
   ]
  },
  {
   "cell_type": "code",
   "execution_count": 16,
   "metadata": {},
   "outputs": [],
   "source": [
    "descs = [tag2desc[tag] if tag in tag2desc.keys() else '' for tag in tags]"
   ]
  },
  {
   "cell_type": "markdown",
   "metadata": {},
   "source": [
    "# Explore by tag"
   ]
  },
  {
   "cell_type": "code",
   "execution_count": 17,
   "metadata": {},
   "outputs": [],
   "source": [
    "df = pd.DataFrame({'Token':toks, 'Tag':tags, 'Description':descs})"
   ]
  },
  {
   "cell_type": "code",
   "execution_count": 18,
   "metadata": {},
   "outputs": [
    {
     "data": {
      "text/plain": [
       "94084"
      ]
     },
     "execution_count": 18,
     "metadata": {},
     "output_type": "execute_result"
    }
   ],
   "source": [
    "len(df)"
   ]
  },
  {
   "cell_type": "code",
   "execution_count": 19,
   "metadata": {
    "scrolled": true
   },
   "outputs": [
    {
     "data": {
      "text/plain": [
       "Tag\n",
       "NN     13166\n",
       "IN      9857\n",
       "NNP     9410\n",
       "DT      8165\n",
       "NNS     6047\n",
       "JJ      5834\n",
       ",       4886\n",
       ".       3874\n",
       "CD      3546\n",
       "VBD     3043\n",
       "Name: count, dtype: int64"
      ]
     },
     "execution_count": 19,
     "metadata": {},
     "output_type": "execute_result"
    }
   ],
   "source": [
    "tag_counts = df[['Tag', 'Token']].groupby(['Tag']).agg(['count'])['Token']['count'].sort_values(ascending=False)\n",
    "tag_counts[:10]"
   ]
  },
  {
   "cell_type": "markdown",
   "metadata": {},
   "source": [
    "The total count of the top 20 tags in the dataset:"
   ]
  },
  {
   "cell_type": "code",
   "execution_count": 20,
   "metadata": {},
   "outputs": [
    {
     "data": {
      "image/png": "[encoded data removed]",
      "text/plain": [
       "<Figure size 1080x432 with 1 Axes>"
      ]
     },
     "metadata": {
      "needs_background": "light"
     },
     "output_type": "display_data"
    }
   ],
   "source": [
    "tc = tag_counts[:20]\n",
    "heights = tc.values\n",
    "labels = tc.index\n",
    "plt.figure(figsize=(15,6))\n",
    "plt.bar(range(len(tc)), heights, tick_label=labels)\n",
    "for x,y in enumerate(heights):\n",
    "    plt.text(x-.4,y+100,str(y))\n",
    "plt.grid(axis='y')\n",
    "plt.show()"
   ]
  },
  {
   "cell_type": "markdown",
   "metadata": {},
   "source": [
    "Each of those tags as a percentage of all tags in the dataset:"
   ]
  },
  {
   "cell_type": "code",
   "execution_count": 113,
   "metadata": {},
   "outputs": [
    {
     "data": {
      "image/png": "[encoded data removed]",
      "text/plain": [
       "<Figure size 1080x432 with 1 Axes>"
      ]
     },
     "metadata": {
      "needs_background": "light"
     },
     "output_type": "display_data"
    }
   ],
   "source": [
    "total_tags = tag_counts.sum()\n",
    "tc = tag_counts[:20]\n",
    "heights = tc.values / total_tags\n",
    "labels = tc.index\n",
    "plt.figure(figsize=(15,6))\n",
    "plt.bar(range(len(tc)), heights, tick_label=labels)\n",
    "for x,y in enumerate(heights):\n",
    "    plt.text(x-.4,y+.001,f\"{y*100:.2f}%\")\n",
    "plt.grid(axis='y')\n",
    "plt.show()"
   ]
  },
  {
   "cell_type": "markdown",
   "metadata": {},
   "source": [
    "Here's what would happen if we predicted most of the tags correctly:"
   ]
  },
  {
   "cell_type": "code",
   "execution_count": 125,
   "metadata": {},
   "outputs": [
    {
     "data": {
      "text/plain": [
       "0.6337634454317419"
      ]
     },
     "execution_count": 125,
     "metadata": {},
     "output_type": "execute_result"
    }
   ],
   "source": [
    "(tag_counts['IN'] + tag_counts['DT'] + tag_counts[6:].sum()) / tag_counts.sum()"
   ]
  },
  {
   "cell_type": "markdown",
   "metadata": {},
   "source": [
    "# Tag Categories"
   ]
  },
  {
   "cell_type": "markdown",
   "metadata": {},
   "source": [
    "## Verb, base form"
   ]
  },
  {
   "cell_type": "markdown",
   "metadata": {},
   "source": [
    "It's hard to recognize a verb in base form by its spelling alone:"
   ]
  },
  {
   "cell_type": "code",
   "execution_count": 21,
   "metadata": {
    "scrolled": true
   },
   "outputs": [
    {
     "data": {
      "text/plain": [
       "array(['join', 'make', 'bring', 'be', 'support', 'regulate', 'have',\n",
       "       'recognize', 'slide', 'indicate', 'retain', 'capture', 'blip',\n",
       "       'pour', 'vary', 'go', 'obtain', 'complete', 'issue', 'lift',\n",
       "       'raise', 'act', 'default', 'oversee', 'treat', 'prove', 'expand',\n",
       "       'return', 'remain', 'keep', 'introduce', 'increase', 'cost',\n",
       "       'announce', 'reward', 'shore', 'justify', 'acquire', 'suffer',\n",
       "       'come', 'take', 'withdraw', 'speed', 'refile', 'refund', 'begin',\n",
       "       'entertain', 'block', 'force', 'slash'], dtype=object)"
      ]
     },
     "execution_count": 21,
     "metadata": {},
     "output_type": "execute_result"
    }
   ],
   "source": [
    "VBs = df[df['Tag']=='VB']['Token'].unique()\n",
    "VBs[:50]"
   ]
  },
  {
   "cell_type": "markdown",
   "metadata": {},
   "source": [
    "They are hard to distinguish from singular/mass nouns based on spelling:"
   ]
  },
  {
   "cell_type": "markdown",
   "metadata": {},
   "source": [
    "## Noun, singular or mass"
   ]
  },
  {
   "cell_type": "code",
   "execution_count": 22,
   "metadata": {},
   "outputs": [
    {
     "data": {
      "text/plain": [
       "array(['board', 'director', 'chairman', 'group', 'conglomerate', 'form',\n",
       "       'asbestos', 'cigarette', 'percentage', 'cancer', 'fiber',\n",
       "       'crocidolite', 'unit', 'Micronite', 'year', 'today', 'forum',\n",
       "       'attention', 'problem', 'spokewoman', 'story', 'anyone',\n",
       "       'research', 'information', 'risk', 'team', 'spokeswoman', 'paper',\n",
       "       'type', 'filter', 'company', 'substance', 'number', 'total',\n",
       "       'mesothelioma', 'lung', 'asbestosis', 'morbidity', 'rate',\n",
       "       'finding', 'factory', 'plant', 'contract', 'Lorillard', 'class',\n",
       "       'kind', 'chrysotile', 'standard', 'regulation', 'professor'],\n",
       "      dtype=object)"
      ]
     },
     "execution_count": 22,
     "metadata": {},
     "output_type": "execute_result"
    }
   ],
   "source": [
    "NNs = df[df['Tag']=='NN']['Token'].unique()\n",
    "NNs[:50]"
   ]
  },
  {
   "cell_type": "markdown",
   "metadata": {},
   "source": [
    "Actually, many words are both verbs and nouns:"
   ]
  },
  {
   "cell_type": "code",
   "execution_count": 23,
   "metadata": {},
   "outputs": [
    {
     "data": {
      "text/plain": [
       "array(['account', 'act', 'address', 'advance', 'aid', 'aim', 'answer',\n",
       "       'appeal', 'attack', 'attempt', 'audit', 'back', 'ban', 'bar',\n",
       "       'benefit', 'block', 'book', 'boost', 'buffet', 'buy', 'call',\n",
       "       'care', 'catch', 'cause', 'challenge', 'change', 'charge', 'claim',\n",
       "       'close', 'color', 'command', 'comment', 'compromise', 'concern',\n",
       "       'conduct', 'contract', 'control', 'cost', 'crack', 'cut', 'deal',\n",
       "       'debate', 'decline', 'decrease', 'default', 'defeat', 'delay',\n",
       "       'demand', 'design', 'drop'], dtype=object)"
      ]
     },
     "execution_count": 23,
     "metadata": {},
     "output_type": "execute_result"
    }
   ],
   "source": [
    "np.intersect1d(VBs, NNs)[:50]"
   ]
  },
  {
   "cell_type": "markdown",
   "metadata": {},
   "source": [
    "On the other hand, some verb forms are easy to identify by spelling:"
   ]
  },
  {
   "cell_type": "markdown",
   "metadata": {},
   "source": [
    "## Gerunds"
   ]
  },
  {
   "cell_type": "markdown",
   "metadata": {},
   "source": [
    "Gerunds are verbs in the form ending in \"ing\":"
   ]
  },
  {
   "cell_type": "code",
   "execution_count": 24,
   "metadata": {},
   "outputs": [
    {
     "data": {
      "text/plain": [
       "array(['publishing', 'causing', 'using', 'talking', 'having', 'making',\n",
       "       'surviving', 'including', 'according', 'remaining', 'declining',\n",
       "       'rising', 'yielding', 'waiving', 'holding', 'cutting',\n",
       "       'manufacturing', 'receiving', 'boarding', 'Knowing', 'looking',\n",
       "       'reflecting', 'casting', 'trying', 'maintaining', 'increasing',\n",
       "       'paying', 'doing', 'gaining', 'According', 'saying', 'raising',\n",
       "       'seeking', 'operating', 'appealing', 'underlying', 'considering',\n",
       "       'tracking', 'collecting', 'involving', 'setting', 'arising',\n",
       "       'diversifying', 'pending', 'providing', 'working', 'needing',\n",
       "       'beginning', 'being', 'transferring'], dtype=object)"
      ]
     },
     "execution_count": 24,
     "metadata": {},
     "output_type": "execute_result"
    }
   ],
   "source": [
    "gerunds = df[df['Tag']=='VBG']['Token']\n",
    "gerunds.unique()[:50]"
   ]
  },
  {
   "cell_type": "markdown",
   "metadata": {},
   "source": [
    "In fact, there are no gerunds that *don't* end in \"ing\" or \"ING\":"
   ]
  },
  {
   "cell_type": "code",
   "execution_count": 25,
   "metadata": {},
   "outputs": [
    {
     "data": {
      "text/plain": [
       "Series([], Name: Token, dtype: object)"
      ]
     },
     "execution_count": 25,
     "metadata": {},
     "output_type": "execute_result"
    }
   ],
   "source": [
    "gerunds[~gerunds.str.match(r'^.+ing$', case=False)]"
   ]
  },
  {
   "cell_type": "markdown",
   "metadata": {},
   "source": [
    "## Verb, past tense"
   ]
  },
  {
   "cell_type": "code",
   "execution_count": 26,
   "metadata": {},
   "outputs": [
    {
     "data": {
      "text/plain": [
       "array(['was', 'reported', 'said', 'stopped', 'were', 'heard', 'studied',\n",
       "       'led', 'worked', 'explained', 'imposed', 'made', 'dumped',\n",
       "       'poured', 'mixed', 'described', 'hung', 'ventilated', 'contracted',\n",
       "       'took', 'continued', 'eased', 'ended', 'lengthened', 'reached',\n",
       "       'rose', 'grew', 'had', 'fell', 'slid', 'resigned', 'approved',\n",
       "       'completed', 'suspended', 'dropped', 'settled', 'decided',\n",
       "       'joined', 'followed', 'raced', 'welcomed', 'hauled', 'drooled',\n",
       "       'pointed', 'squeezed', 'fed', 'gave', 'registered', 'released',\n",
       "       'showed'], dtype=object)"
      ]
     },
     "execution_count": 26,
     "metadata": {},
     "output_type": "execute_result"
    }
   ],
   "source": [
    "VBDs = df[df['Tag']=='VBD']['Token']\n",
    "VBDs.unique()[:50]"
   ]
  },
  {
   "cell_type": "markdown",
   "metadata": {},
   "source": [
    "Most past tense verbs end in \"ed\". Here are the only ones that *don't* end in \"ed\":"
   ]
  },
  {
   "cell_type": "code",
   "execution_count": 27,
   "metadata": {},
   "outputs": [
    {
     "data": {
      "text/plain": [
       "array(['was', 'said', 'were', 'heard', 'made', 'hung', 'took', 'rose',\n",
       "       'grew', 'had', 'fell', 'slid', 'gave', 'stood', 'began', 'spent',\n",
       "       'did', 'got', 'upheld', 'found', 'set', 'came', 'met', 'became',\n",
       "       'cut', 'bought', 'went', 'ran', 'sold', 'shot', 'brought', 'hid',\n",
       "       'paid', 'won', 'left', 'dreamt', 'taught', 'told', 'meant',\n",
       "       'broke', 'thought', 'read', 'bid', 'saw', 'leapt', 'lost',\n",
       "       'understood', 'wrote', 'lay', 'sent', 'held', 'begot', 'felt',\n",
       "       'stuck', 'kept', 'spoke', 'drove', 'fought', 'knew', 'chose',\n",
       "       'underwent', 'put', 'let', 'have', 'wound', 'built', 'beat',\n",
       "       'sought', 'drew', 'rang', 'withdrew', 'forecast', 'lent', 'hit',\n",
       "       'shrank', 'befell', 'sank'], dtype=object)"
      ]
     },
     "execution_count": 27,
     "metadata": {},
     "output_type": "execute_result"
    }
   ],
   "source": [
    "VBDs[~VBDs.str.match(r'^.+ed$', case=False)].unique()"
   ]
  },
  {
   "cell_type": "markdown",
   "metadata": {},
   "source": [
    "The same is true here as well:"
   ]
  },
  {
   "cell_type": "markdown",
   "metadata": {},
   "source": [
    "## Verb, past participle "
   ]
  },
  {
   "cell_type": "code",
   "execution_count": 28,
   "metadata": {},
   "outputs": [
    {
     "data": {
      "text/plain": [
       "array(['named', 'used', 'caused', 'exposed', 'reported', 'replaced',\n",
       "       'sold', 'died', 'expected', 'diagnosed', 'studied',\n",
       "       'industrialized', 'owned', 'found', 'classified', 'rejected',\n",
       "       'outlawed', 'imported', 'tracked', 'thought', 'considered',\n",
       "       'elected', 'based', 'lifted', 'ensnarled', 'voted', 'been', 'held',\n",
       "       'banned', 'renovated', 'prolonged', 'recorded', 'accumulated',\n",
       "       'offered', 'become', 'guaranteed', 'proposed', 'related',\n",
       "       'improved', 'worried', 'cluttered', 'expedited', 'retired',\n",
       "       'ordered', 'collected', 'required', 'received', 'moved',\n",
       "       'determined', 'made'], dtype=object)"
      ]
     },
     "execution_count": 28,
     "metadata": {},
     "output_type": "execute_result"
    }
   ],
   "source": [
    "VBNs = df[df['Tag']=='VBN']['Token']\n",
    "VBNs.unique()[:50]"
   ]
  },
  {
   "cell_type": "markdown",
   "metadata": {},
   "source": [
    "Again, the ones that don't end in \"ed\":"
   ]
  },
  {
   "cell_type": "code",
   "execution_count": 29,
   "metadata": {},
   "outputs": [
    {
     "data": {
      "text/plain": [
       "array(['sold', 'found', 'thought', 'been', 'held', 'become', 'made',\n",
       "       'set', 'paid', 'forgiven', 'built', 'brought', 'left', 'put',\n",
       "       'cast', 'repaid', 'lent', 'fallen', 'spent', 'broken', 'written',\n",
       "       'run', 'had', 'laid', 'given', 'taken', 'come', 'caught', 'Stung',\n",
       "       'grown', 'gotten', 'known', 'seen', 'gone', 'chosen', 'got',\n",
       "       'withdrawn', 'lost', 'heard', 'sent', 'UPHELD', 'kept', 'offset',\n",
       "       'said', 'met', 'hit', 'spread', 'shown', 'frozen', 'done', 'rung',\n",
       "       'drawn', 'risen', 'Put', 'forgotten', 'sought', 'Given', 'hurt',\n",
       "       'upset', 'understood', 'read', 'won', 'shut', 'torn', 'staid',\n",
       "       'begun', 'upheld', 'shaken', 'proven', 'beaten', 'Left', 'cut',\n",
       "       'overcome', 'hidden', 'overdone', 'bought', 'meant', 'own', 'felt',\n",
       "       'split', 'told', 'forecast', 'spun', 'born'], dtype=object)"
      ]
     },
     "execution_count": 29,
     "metadata": {},
     "output_type": "execute_result"
    }
   ],
   "source": [
    "VBNs[~VBNs.str.match(r'^.+ed$', case=False)].unique()"
   ]
  },
  {
   "cell_type": "markdown",
   "metadata": {},
   "source": [
    "Some tags have so few unique tokens that they could just be memorized:"
   ]
  },
  {
   "cell_type": "markdown",
   "metadata": {},
   "source": [
    "## Preposition or subordinating conjunction"
   ]
  },
  {
   "cell_type": "code",
   "execution_count": 30,
   "metadata": {},
   "outputs": [
    {
     "data": {
      "text/plain": [
       "array(['as', 'of', 'among', 'than', 'ago', 'once', 'with', 'in',\n",
       "       'Although', 'about', 'before', 'on', 'whether', 'at', 'from',\n",
       "       'for', 'From', 'Among', 'by', 'under', 'that', 'In', 'By', 'About',\n",
       "       'into', 'over', 'though', 'amid', 'since', 'because', 'Despite',\n",
       "       'during', 'after', 'Until', 'until', 'if', 'like', 'On', 'along',\n",
       "       'For', 'so', 'After', 'Under', 'while', 'far', 'between', 'per',\n",
       "       'without', 'out', 'below', 'worth', 'against', 'around',\n",
       "       'complicated', 'off', 'through', 'near', 'although', 'While',\n",
       "       'Besides', 'up', 'Along', 'Without', 'At', 'including', 'So',\n",
       "       'During', 'via', 'despite', 'throughout', 'outside', 'above',\n",
       "       'Unlike', 'Behind', 'As', 'If', 'unless', 'to', 'except', 'Of',\n",
       "       'behind', 'Before', 'across', 'But', 'unlike', 'and', 'Against',\n",
       "       'toward', 'Because', 'a', 'Since', 'Over', 'OVER', 'next', 'are',\n",
       "       '@', 'down', 'With', 'which', 'within', 'upon', 'de', 'Unless',\n",
       "       'Like', 'beyond', 'vs.', 'Than', 'Except', 'onto', 'Once',\n",
       "       'notwithstanding', 'OF', 'Though', 'Whereas', 'That', 'Whether',\n",
       "       'Above', 'aboard', 'till'], dtype=object)"
      ]
     },
     "execution_count": 30,
     "metadata": {},
     "output_type": "execute_result"
    }
   ],
   "source": [
    "df[df['Tag']=='IN']['Token'].unique()"
   ]
  },
  {
   "cell_type": "markdown",
   "metadata": {},
   "source": [
    "## Determiner"
   ]
  },
  {
   "cell_type": "code",
   "execution_count": 31,
   "metadata": {},
   "outputs": [
    {
     "data": {
      "text/plain": [
       "array(['the', 'a', 'this', 'A', 'The', 'This', 'an', 'any', 'no',\n",
       "       'Neither', 'those', 'all', 'some', 'these', 'No', 'another',\n",
       "       'that', 'Both', 'That', 'each', 'every', 'half', 'All', 'both',\n",
       "       'These', 'Those', 'An', 'Another', 'neither', 'Any', 'Each',\n",
       "       'Some', 'THE', 'la', 'le', 'Every', 'del', 'either', 'AN'],\n",
       "      dtype=object)"
      ]
     },
     "execution_count": 31,
     "metadata": {},
     "output_type": "execute_result"
    }
   ],
   "source": [
    "df[df['Tag']=='DT']['Token'].unique()"
   ]
  },
  {
   "cell_type": "markdown",
   "metadata": {},
   "source": [
    "## End of Sentence"
   ]
  },
  {
   "cell_type": "code",
   "execution_count": 32,
   "metadata": {},
   "outputs": [
    {
     "data": {
      "text/plain": [
       "array(['.', '?', '!'], dtype=object)"
      ]
     },
     "execution_count": 32,
     "metadata": {},
     "output_type": "execute_result"
    }
   ],
   "source": [
    "df[df['Tag']=='.']['Token'].unique()"
   ]
  },
  {
   "cell_type": "markdown",
   "metadata": {},
   "source": [
    "## Cardinal number"
   ]
  },
  {
   "cell_type": "markdown",
   "metadata": {},
   "source": [
    "Numbers can usually be recognized by the presence of digit characters:"
   ]
  },
  {
   "cell_type": "code",
   "execution_count": 33,
   "metadata": {
    "scrolled": true
   },
   "outputs": [
    {
     "data": {
      "text/plain": [
       "array(['61', '29', '55', '30', '1956', '1950s', '1953', '1955', '9.8',\n",
       "       'billion', '33', '28', 'three', 'Four', 'five', '18', 'one',\n",
       "       '1997', '160', '35', '400', '8.45', '8.47', '41', '8.04', '7.90',\n",
       "       '1.5', '352.7', '9', '9.37', '9.45', '8.12', '8.14', '8.19',\n",
       "       '8.22', '8.53', '8.56', '83.4', 'seven', '27', '212', 'million',\n",
       "       '295', '2,700', '370', '2.80', 'trillion', '2.87', '3.1', '43'],\n",
       "      dtype=object)"
      ]
     },
     "execution_count": 33,
     "metadata": {},
     "output_type": "execute_result"
    }
   ],
   "source": [
    "CDs = df[df['Tag']=='CD']\n",
    "CDs['Token'].unique()[:50]"
   ]
  },
  {
   "cell_type": "markdown",
   "metadata": {},
   "source": [
    "However, some only contain letters:"
   ]
  },
  {
   "cell_type": "code",
   "execution_count": 34,
   "metadata": {},
   "outputs": [
    {
     "data": {
      "text/plain": [
       "array(['billion', 'three', 'Four', 'five', 'one', 'seven', 'million',\n",
       "       'trillion', 'four', 'two', 'nine', 'six', 'Three', 'THREE', 'One',\n",
       "       'IX', 'FIRST', 'the', 'hundred', 'Five', 'Fifteen', 'Nine', 'Ten',\n",
       "       'Two', 'eight', 'TWO', 'thousand', 'zero', 'Fourteen'],\n",
       "      dtype=object)"
      ]
     },
     "execution_count": 34,
     "metadata": {},
     "output_type": "execute_result"
    }
   ],
   "source": [
    "CDs[CDs['Token'].str.match(r'^[a-zA-Z]+$')]['Token'].unique()"
   ]
  },
  {
   "cell_type": "markdown",
   "metadata": {},
   "source": [
    "# Sentences"
   ]
  },
  {
   "cell_type": "code",
   "execution_count": 36,
   "metadata": {},
   "outputs": [],
   "source": [
    "def get_sentences(pairs):\n",
    "    sentences = []\n",
    "    sentence = []\n",
    "    for tag,tok in all_pairs:\n",
    "        sentence.append([tag,tok])\n",
    "        if tag == '.':\n",
    "            sentences.append(sentence)\n",
    "            sentence = []\n",
    "    return sentences"
   ]
  },
  {
   "cell_type": "code",
   "execution_count": 37,
   "metadata": {},
   "outputs": [],
   "source": [
    "sentences = get_sentences(all_pairs)"
   ]
  },
  {
   "cell_type": "code",
   "execution_count": 56,
   "metadata": {},
   "outputs": [
    {
     "data": {
      "text/plain": [
       "3828"
      ]
     },
     "execution_count": 56,
     "metadata": {},
     "output_type": "execute_result"
    }
   ],
   "source": [
    "statements = [sentence for sentence in sentences if sentence[-1][-1]=='.']\n",
    "len(statements)"
   ]
  },
  {
   "cell_type": "code",
   "execution_count": 57,
   "metadata": {},
   "outputs": [
    {
     "data": {
      "text/plain": [
       "[['NNP', 'Pierre'],\n",
       " ['NNP', 'Vinken'],\n",
       " [',', ','],\n",
       " ['CD', '61'],\n",
       " ['NNS', 'years'],\n",
       " ['JJ', 'old'],\n",
       " [',', ','],\n",
       " ['MD', 'will'],\n",
       " ['VB', 'join'],\n",
       " ['DT', 'the'],\n",
       " ['NN', 'board'],\n",
       " ['IN', 'as'],\n",
       " ['DT', 'a'],\n",
       " ['JJ', 'nonexecutive'],\n",
       " ['NN', 'director'],\n",
       " ['NNP', 'Nov.'],\n",
       " ['CD', '29'],\n",
       " ['.', '.']]"
      ]
     },
     "execution_count": 57,
     "metadata": {},
     "output_type": "execute_result"
    }
   ],
   "source": [
    "statements[0]"
   ]
  },
  {
   "cell_type": "code",
   "execution_count": 42,
   "metadata": {},
   "outputs": [
    {
     "data": {
      "text/plain": [
       "40"
      ]
     },
     "execution_count": 42,
     "metadata": {},
     "output_type": "execute_result"
    }
   ],
   "source": [
    "questions = [sentence for sentence in sentences if sentence[-1][-1]=='?']\n",
    "len(questions)"
   ]
  },
  {
   "cell_type": "code",
   "execution_count": 59,
   "metadata": {},
   "outputs": [
    {
     "data": {
      "text/plain": [
       "[['``', '``'],\n",
       " ['NN', 'Anything'],\n",
       " ['VBZ', \"'s\"],\n",
       " ['JJ', 'possible'],\n",
       " [':', '--'],\n",
       " ['WRB', 'how'],\n",
       " ['RP', 'about'],\n",
       " ['DT', 'the'],\n",
       " ['NNP', 'New'],\n",
       " ['NNP', 'Guinea'],\n",
       " ['NNP', 'Fund'],\n",
       " ['.', '?']]"
      ]
     },
     "execution_count": 59,
     "metadata": {},
     "output_type": "execute_result"
    }
   ],
   "source": [
    "questions[1]"
   ]
  },
  {
   "cell_type": "code",
   "execution_count": 48,
   "metadata": {},
   "outputs": [
    {
     "data": {
      "text/plain": [
       "6"
      ]
     },
     "execution_count": 48,
     "metadata": {},
     "output_type": "execute_result"
    }
   ],
   "source": [
    "exclamations = [sentence for sentence in sentences if sentence[-1][-1]=='!']\n",
    "len(exclamations)"
   ]
  },
  {
   "cell_type": "code",
   "execution_count": 55,
   "metadata": {},
   "outputs": [
    {
     "data": {
      "text/plain": [
       "[['VBP', 'Do'],\n",
       " ['RB', \"n't\"],\n",
       " ['VB', 'wait'],\n",
       " [':', '--'],\n",
       " ['DT', 'a'],\n",
       " ['NNS', 'savings'],\n",
       " ['NN', 'institution'],\n",
       " ['VBZ', 'needs'],\n",
       " ['PRP$', 'your'],\n",
       " ['NN', 'help'],\n",
       " ['RB', 'now'],\n",
       " ['.', '!']]"
      ]
     },
     "execution_count": 55,
     "metadata": {},
     "output_type": "execute_result"
    }
   ],
   "source": [
    "exclamations[1]"
   ]
  },
  {
   "cell_type": "code",
   "execution_count": 60,
   "metadata": {},
   "outputs": [],
   "source": [
    "tag_sentences = [[tag for tag,tok in sentence] for sentence in sentences]"
   ]
  },
  {
   "cell_type": "code",
   "execution_count": 70,
   "metadata": {},
   "outputs": [
    {
     "data": {
      "text/plain": [
       "['NNP',\n",
       " 'NNP',\n",
       " ',',\n",
       " 'CD',\n",
       " 'NNS',\n",
       " 'JJ',\n",
       " ',',\n",
       " 'MD',\n",
       " 'VB',\n",
       " 'DT',\n",
       " 'NN',\n",
       " 'IN',\n",
       " 'DT',\n",
       " 'JJ',\n",
       " 'NN',\n",
       " 'NNP',\n",
       " 'CD',\n",
       " '.']"
      ]
     },
     "execution_count": 70,
     "metadata": {},
     "output_type": "execute_result"
    }
   ],
   "source": [
    "tag_sentences[0]"
   ]
  },
  {
   "cell_type": "code",
   "execution_count": 71,
   "metadata": {},
   "outputs": [],
   "source": [
    "tok_sentences = [[tok for tag,tok in sentence] for sentence in sentences]"
   ]
  },
  {
   "cell_type": "code",
   "execution_count": 72,
   "metadata": {},
   "outputs": [
    {
     "data": {
      "text/plain": [
       "['Pierre',\n",
       " 'Vinken',\n",
       " ',',\n",
       " '61',\n",
       " 'years',\n",
       " 'old',\n",
       " ',',\n",
       " 'will',\n",
       " 'join',\n",
       " 'the',\n",
       " 'board',\n",
       " 'as',\n",
       " 'a',\n",
       " 'nonexecutive',\n",
       " 'director',\n",
       " 'Nov.',\n",
       " '29',\n",
       " '.']"
      ]
     },
     "execution_count": 72,
     "metadata": {},
     "output_type": "execute_result"
    }
   ],
   "source": [
    "tok_sentences[0]"
   ]
  },
  {
   "cell_type": "code",
   "execution_count": 73,
   "metadata": {},
   "outputs": [],
   "source": [
    "assert len(tag_sentences)==len(tok_sentences)"
   ]
  },
  {
   "cell_type": "code",
   "execution_count": null,
   "metadata": {},
   "outputs": [],
   "source": []
  }
 ],
 "metadata": {
  "kernelspec": {
   "display_name": "Python 3",
   "language": "python",
   "name": "python3"
  },
  "language_info": {
   "codemirror_mode": {
    "name": "ipython",
    "version": 3
   },
   "file_extension": ".py",
   "mimetype": "text/x-python",
   "name": "python",
   "nbconvert_exporter": "python",
   "pygments_lexer": "ipython3",
   "version": "3.8.6"
  }
 },
 "nbformat": 4,
 "nbformat_minor": 4
}
