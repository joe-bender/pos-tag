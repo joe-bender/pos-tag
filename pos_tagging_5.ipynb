{
 "cells": [
  {
   "cell_type": "code",
   "execution_count": 1,
   "metadata": {},
   "outputs": [],
   "source": [
    "import torch\n",
    "import torch.nn as nn\n",
    "from torch.functional import F\n",
    "import matplotlib\n",
    "import matplotlib.pyplot as plt\n",
    "from pathlib import Path\n",
    "import re\n",
    "from collections import Counter\n",
    "import random"
   ]
  },
  {
   "cell_type": "markdown",
   "metadata": {},
   "source": [
    "# Data prep"
   ]
  },
  {
   "cell_type": "code",
   "execution_count": 2,
   "metadata": {},
   "outputs": [
    {
     "data": {
      "text/plain": [
       "PosixPath('treebank/treebank/combined')"
      ]
     },
     "execution_count": 2,
     "metadata": {},
     "output_type": "execute_result"
    }
   ],
   "source": [
    "path = Path('.')\n",
    "path_comb = path/\"treebank\"/\"treebank\"/\"combined\"\n",
    "path_comb"
   ]
  },
  {
   "cell_type": "code",
   "execution_count": 3,
   "metadata": {},
   "outputs": [],
   "source": [
    "files = [o for o in path_comb.iterdir()]"
   ]
  },
  {
   "cell_type": "code",
   "execution_count": 4,
   "metadata": {},
   "outputs": [
    {
     "data": {
      "text/plain": [
       "PosixPath('treebank/treebank/combined/README')"
      ]
     },
     "execution_count": 4,
     "metadata": {},
     "output_type": "execute_result"
    }
   ],
   "source": [
    "files.pop(0)"
   ]
  },
  {
   "cell_type": "code",
   "execution_count": 5,
   "metadata": {},
   "outputs": [],
   "source": [
    "combineds = [file.open().read() for file in files]"
   ]
  },
  {
   "cell_type": "code",
   "execution_count": 6,
   "metadata": {},
   "outputs": [],
   "source": [
    "def get_pairs(texts):\n",
    "    all_pairs = []\n",
    "    for text in texts:\n",
    "        pairs = re.findall(r'\\((\\S+) (\\S+)\\)', text)\n",
    "        all_pairs += pairs\n",
    "    return all_pairs"
   ]
  },
  {
   "cell_type": "code",
   "execution_count": 7,
   "metadata": {},
   "outputs": [
    {
     "data": {
      "text/plain": [
       "100676"
      ]
     },
     "execution_count": 7,
     "metadata": {},
     "output_type": "execute_result"
    }
   ],
   "source": [
    "all_pairs = get_pairs(combineds)\n",
    "len(all_pairs)"
   ]
  },
  {
   "cell_type": "code",
   "execution_count": 8,
   "metadata": {},
   "outputs": [
    {
     "data": {
      "text/plain": [
       "[('NNP', 'Pierre'),\n",
       " ('NNP', 'Vinken'),\n",
       " (',', ','),\n",
       " ('CD', '61'),\n",
       " ('NNS', 'years'),\n",
       " ('JJ', 'old'),\n",
       " (',', ','),\n",
       " ('MD', 'will'),\n",
       " ('VB', 'join'),\n",
       " ('DT', 'the')]"
      ]
     },
     "execution_count": 8,
     "metadata": {},
     "output_type": "execute_result"
    }
   ],
   "source": [
    "all_pairs[:10]"
   ]
  },
  {
   "cell_type": "code",
   "execution_count": 9,
   "metadata": {},
   "outputs": [
    {
     "data": {
      "text/plain": [
       "94084"
      ]
     },
     "execution_count": 9,
     "metadata": {},
     "output_type": "execute_result"
    }
   ],
   "source": [
    "all_pairs = [[tag,tok] for tag,tok in all_pairs if tag != '-NONE-']\n",
    "len(all_pairs)"
   ]
  },
  {
   "cell_type": "code",
   "execution_count": 10,
   "metadata": {},
   "outputs": [],
   "source": [
    "tags,toks = list(zip(*all_pairs))"
   ]
  },
  {
   "cell_type": "markdown",
   "metadata": {},
   "source": [
    "# Baseline"
   ]
  },
  {
   "cell_type": "markdown",
   "metadata": {},
   "source": [
    "Frequency of most common tag:"
   ]
  },
  {
   "cell_type": "code",
   "execution_count": 11,
   "metadata": {},
   "outputs": [
    {
     "data": {
      "text/plain": [
       "('NN', 13166)"
      ]
     },
     "execution_count": 11,
     "metadata": {},
     "output_type": "execute_result"
    }
   ],
   "source": [
    "most_common = Counter(tags).most_common()[0]\n",
    "most_common"
   ]
  },
  {
   "cell_type": "code",
   "execution_count": 12,
   "metadata": {},
   "outputs": [
    {
     "data": {
      "text/plain": [
       "13166"
      ]
     },
     "execution_count": 12,
     "metadata": {},
     "output_type": "execute_result"
    }
   ],
   "source": [
    "freq = most_common[1]\n",
    "freq"
   ]
  },
  {
   "cell_type": "code",
   "execution_count": 13,
   "metadata": {},
   "outputs": [
    {
     "data": {
      "text/plain": [
       "0.13993877811317545"
      ]
     },
     "execution_count": 13,
     "metadata": {},
     "output_type": "execute_result"
    }
   ],
   "source": [
    "freq / len(tags)"
   ]
  },
  {
   "cell_type": "markdown",
   "metadata": {},
   "source": [
    "So if we predicted the most common tag, we would only get around 14% accuracy."
   ]
  },
  {
   "cell_type": "markdown",
   "metadata": {},
   "source": [
    "## Transforms"
   ]
  },
  {
   "cell_type": "code",
   "execution_count": 14,
   "metadata": {},
   "outputs": [],
   "source": [
    "class BaseTransform():\n",
    "    def __init__(self, vocab):\n",
    "        self.vocab = vocab\n",
    "        self.count = len(self.vocab)\n",
    "        self.item2num = {item:num for num,item in enumerate(self.vocab)}\n",
    "        self.num2item = {num:item for num,item in enumerate(self.vocab)}\n",
    "    \n",
    "    def encode(self,o):\n",
    "        return torch.tensor([self.item2num[item] for item in o])\n",
    "    \n",
    "    def decode(self,o):\n",
    "        return [self.num2item[num] for num in o.tolist()]"
   ]
  },
  {
   "cell_type": "code",
   "execution_count": 15,
   "metadata": {},
   "outputs": [],
   "source": [
    "class TokTransform(BaseTransform):\n",
    "    def __init__(self, items):\n",
    "        vocab = ['xxunk', 'xxpad'] + [item for item,count in Counter(items).most_common()]\n",
    "        super().__init__(vocab)"
   ]
  },
  {
   "cell_type": "code",
   "execution_count": 16,
   "metadata": {},
   "outputs": [],
   "source": [
    "class TagTransform(BaseTransform):\n",
    "    def __init__(self, items):\n",
    "        vocab = [item for item,count in Counter(items).most_common()]\n",
    "        super().__init__(vocab)"
   ]
  },
  {
   "cell_type": "code",
   "execution_count": 17,
   "metadata": {},
   "outputs": [],
   "source": [
    "def get_sentences(pairs):\n",
    "    sentences = []\n",
    "    sentence = []\n",
    "    for label,tok in all_pairs:\n",
    "        sentence.append([label,tok])\n",
    "        if label == '.' and tok == '.':\n",
    "            sentences.append(sentence)\n",
    "            sentence = []\n",
    "    return sentences"
   ]
  },
  {
   "cell_type": "code",
   "execution_count": 18,
   "metadata": {},
   "outputs": [],
   "source": [
    "tok_tfm = TokTransform(toks)\n",
    "tag_tfm = TagTransform(tags)"
   ]
  },
  {
   "cell_type": "code",
   "execution_count": 19,
   "metadata": {},
   "outputs": [],
   "source": [
    "sentences = get_sentences(all_pairs)"
   ]
  },
  {
   "cell_type": "markdown",
   "metadata": {},
   "source": [
    "### These are the raw items that will be indexed in the data loader:"
   ]
  },
  {
   "cell_type": "code",
   "execution_count": 20,
   "metadata": {},
   "outputs": [],
   "source": [
    "x_toks = [[tok for tag,tok in sentence] for sentence in sentences]\n",
    "y_tags = [[tag for tag,tok in sentence] for sentence in sentences]\n",
    "assert(len(x_toks) == len(y_tags))"
   ]
  },
  {
   "cell_type": "markdown",
   "metadata": {},
   "source": [
    "### These are the tensors:"
   ]
  },
  {
   "cell_type": "code",
   "execution_count": 21,
   "metadata": {},
   "outputs": [],
   "source": [
    "x = [tok_tfm.encode(sentence) for sentence in x_toks]\n",
    "y = [tag_tfm.encode(sentence) for sentence in y_tags]\n",
    "assert(len(x) == len(y))"
   ]
  },
  {
   "cell_type": "markdown",
   "metadata": {},
   "source": [
    "# Train / Val split"
   ]
  },
  {
   "cell_type": "code",
   "execution_count": 22,
   "metadata": {},
   "outputs": [
    {
     "data": {
      "text/plain": [
       "3828"
      ]
     },
     "execution_count": 22,
     "metadata": {},
     "output_type": "execute_result"
    }
   ],
   "source": [
    "len(x)"
   ]
  },
  {
   "cell_type": "code",
   "execution_count": 23,
   "metadata": {},
   "outputs": [
    {
     "data": {
      "text/plain": [
       "3062"
      ]
     },
     "execution_count": 23,
     "metadata": {},
     "output_type": "execute_result"
    }
   ],
   "source": [
    "cut = int(len(x) * .8)\n",
    "cut"
   ]
  },
  {
   "cell_type": "code",
   "execution_count": 24,
   "metadata": {},
   "outputs": [
    {
     "data": {
      "text/plain": [
       "(range(0, 3062), range(3062, 3828))"
      ]
     },
     "execution_count": 24,
     "metadata": {},
     "output_type": "execute_result"
    }
   ],
   "source": [
    "range(cut), range(cut,len(x))"
   ]
  },
  {
   "cell_type": "code",
   "execution_count": 25,
   "metadata": {},
   "outputs": [],
   "source": [
    "x_train, x_val = x[:cut], x[cut:]\n",
    "y_train, y_val = y[:cut], y[cut:]"
   ]
  },
  {
   "cell_type": "code",
   "execution_count": 26,
   "metadata": {},
   "outputs": [],
   "source": [
    "assert len(x_train) == len(y_train)\n",
    "assert len(x_val) == len(y_val)"
   ]
  },
  {
   "cell_type": "markdown",
   "metadata": {},
   "source": [
    "# Dataloading"
   ]
  },
  {
   "cell_type": "code",
   "execution_count": 27,
   "metadata": {},
   "outputs": [],
   "source": [
    "class DataLoader():\n",
    "    def __init__(self, x_set, y_set, bs):\n",
    "        self.x_set, self.y_set, self.bs = x_set, y_set, bs\n",
    "        self.n_items = len(self.x_set)\n",
    "    \n",
    "    def get_batches(self):\n",
    "        self.x_set, self.y_set = self._shuffle_same(self.x_set, self.y_set)\n",
    "        for start in range(0,self.n_items,self.bs):\n",
    "            end = start + self.bs\n",
    "            if end > self.n_items:\n",
    "                end = self.n_items\n",
    "            xb, yb = self.x_set[start:end], self.y_set[start:end]\n",
    "            xb, yb = self._pad_stack(xb), self._pad_stack(yb)\n",
    "            assert xb.shape == yb.shape\n",
    "            yield xb, yb\n",
    "    \n",
    "    def _shuffle_same(self, x_set, y_set):\n",
    "        \"Shuffle both x_set and y_set, but keep them lined up with each other\"\n",
    "        zipped = list(zip(x_set, y_set))\n",
    "        random.shuffle(zipped)\n",
    "        return list(zip(*zipped))\n",
    "    \n",
    "    def _pad_to(self, t, max_len):\n",
    "        \"Pad vector tensor t to be of length max_len\"\n",
    "        assert len(t.shape) == 1\n",
    "        return F.pad(t, (0,max_len-len(t)), value=1)\n",
    "    \n",
    "    def _pad_stack(self, batch):\n",
    "        max_len = max(map(len, batch))\n",
    "        return torch.stack([self._pad_to(t,max_len) for t in batch])"
   ]
  },
  {
   "cell_type": "code",
   "execution_count": 28,
   "metadata": {},
   "outputs": [],
   "source": [
    "class DataLoaders():\n",
    "    def __init__(self, train, val):\n",
    "        self.train, self.val = train, val"
   ]
  },
  {
   "cell_type": "markdown",
   "metadata": {},
   "source": [
    "Create dls:"
   ]
  },
  {
   "cell_type": "code",
   "execution_count": 29,
   "metadata": {},
   "outputs": [],
   "source": [
    "bs = 64\n",
    "dl_train = DataLoader(x_train, y_train, bs)\n",
    "dl_val = DataLoader(x_val, y_val, bs)\n",
    "dls = DataLoaders(dl_train, dl_val)"
   ]
  },
  {
   "cell_type": "markdown",
   "metadata": {},
   "source": [
    "# Model"
   ]
  },
  {
   "cell_type": "code",
   "execution_count": 30,
   "metadata": {},
   "outputs": [],
   "source": [
    "class TagModel(nn.Module):\n",
    "    def __init__(self, voc_sz, emb_sz, hid_sz, out_sz):\n",
    "        super().__init__()\n",
    "        self.emb = nn.Embedding(voc_sz, emb_sz)\n",
    "        self.lstm = nn.LSTM(emb_sz, hid_sz, num_layers=3, batch_first=True)\n",
    "        self.lin = nn.Linear(hid_sz, out_sz)\n",
    "    \n",
    "    def forward(self,x):\n",
    "        out = self.emb(x)\n",
    "        out,h = self.lstm(out)\n",
    "        out = self.lin(out)\n",
    "        return out"
   ]
  },
  {
   "cell_type": "code",
   "execution_count": 31,
   "metadata": {},
   "outputs": [
    {
     "data": {
      "text/plain": [
       "(11970, 45)"
      ]
     },
     "execution_count": 31,
     "metadata": {},
     "output_type": "execute_result"
    }
   ],
   "source": [
    "voc_sz = tok_tfm.count\n",
    "emb_sz = 100\n",
    "hid_sz = 500\n",
    "out_sz = tag_tfm.count\n",
    "\n",
    "voc_sz, out_sz"
   ]
  },
  {
   "cell_type": "code",
   "execution_count": 32,
   "metadata": {},
   "outputs": [],
   "source": [
    "model = TagModel(voc_sz, emb_sz, hid_sz, out_sz)"
   ]
  },
  {
   "cell_type": "markdown",
   "metadata": {},
   "source": [
    "# Loss"
   ]
  },
  {
   "cell_type": "code",
   "execution_count": 33,
   "metadata": {},
   "outputs": [],
   "source": [
    "def tag_loss(preds, targ):\n",
    "    preds = preds.view(-1, tag_tfm.count)\n",
    "    targ = targ.view(-1)\n",
    "    return F.cross_entropy(preds, targ)"
   ]
  },
  {
   "cell_type": "markdown",
   "metadata": {},
   "source": [
    "# Optimizer"
   ]
  },
  {
   "cell_type": "code",
   "execution_count": 34,
   "metadata": {},
   "outputs": [],
   "source": [
    "opt = torch.optim.Adam(model.parameters())"
   ]
  },
  {
   "cell_type": "markdown",
   "metadata": {},
   "source": [
    "# Metrics (accuracy)"
   ]
  },
  {
   "cell_type": "code",
   "execution_count": 35,
   "metadata": {},
   "outputs": [],
   "source": [
    "def accuracy(preds, targ):\n",
    "    nums = preds.argmax(dim=-1)\n",
    "    return (nums == targ).float().mean()"
   ]
  },
  {
   "cell_type": "markdown",
   "metadata": {},
   "source": [
    "# Learner"
   ]
  },
  {
   "cell_type": "code",
   "execution_count": 36,
   "metadata": {},
   "outputs": [],
   "source": [
    "class Learner():\n",
    "    def __init__(self, dls, model, loss_func, opt, metric):\n",
    "        self.dls, self.model, self.loss_func, self.opt, self.metric = dls, model, loss_func, opt, metric\n",
    "        self.train_loss_log = []\n",
    "        self.val_loss_log = []\n",
    "        self.metric_log = []\n",
    "    \n",
    "    def fit(self, n_epochs):\n",
    "        for epoch in range(n_epochs):\n",
    "            print(f\"Epoch {epoch}: \", end='')\n",
    "            train_loss = self.train_epoch()\n",
    "            self.train_loss_log.append(train_loss)\n",
    "            val_loss, metric = self.validate()\n",
    "            self.val_loss_log.append(val_loss)\n",
    "            self.metric_log.append(metric)\n",
    "    \n",
    "    def train_epoch(self):\n",
    "        train_losses = []\n",
    "        self.model.train()\n",
    "        for xb,yb in self.dls.train.get_batches():\n",
    "            preds = self.model(xb)\n",
    "            loss = self.loss_func(preds, yb)\n",
    "            train_losses.append(loss.item())\n",
    "            loss.backward()\n",
    "            self.opt.step()\n",
    "            self.opt.zero_grad()\n",
    "#             print('.', end='')\n",
    "#         print()\n",
    "        mean_loss = torch.tensor(train_losses).mean().item()\n",
    "#         print(f\"Train loss: {mean_loss}\")\n",
    "        return mean_loss\n",
    "    \n",
    "    def validate(self):\n",
    "        valid_losses = []\n",
    "        metrics = []\n",
    "        self.model.eval()\n",
    "        with torch.no_grad():\n",
    "            for xb,yb in self.dls.val.get_batches():\n",
    "                preds = self.model(xb)\n",
    "                loss = self.loss_func(preds, yb)\n",
    "#                 print('.', end='')\n",
    "                valid_losses.append(loss)\n",
    "                metrics.append(accuracy(preds, yb))\n",
    "#         print()\n",
    "        mean_loss = torch.tensor(valid_losses).mean().item()\n",
    "#         print(f\"Valid loss: {mean_loss}\")\n",
    "        mean_metric = torch.tensor(metrics).mean().item()\n",
    "        print(f\"Metric: {mean_metric}\")\n",
    "        return mean_loss, mean_metric"
   ]
  },
  {
   "cell_type": "code",
   "execution_count": 37,
   "metadata": {},
   "outputs": [],
   "source": [
    "learn = Learner(dls, model, tag_loss, opt, accuracy)"
   ]
  },
  {
   "cell_type": "code",
   "execution_count": 38,
   "metadata": {},
   "outputs": [
    {
     "name": "stdout",
     "output_type": "stream",
     "text": [
      "Epoch 0: Metric: 0.6227027773857117\n",
      "Epoch 1: Metric: 0.7453997135162354\n",
      "Epoch 2: Metric: 0.8046727180480957\n",
      "Epoch 3: Metric: 0.8484501242637634\n",
      "Epoch 4: Metric: 0.8707658648490906\n",
      "Epoch 5: Metric: 0.897190272808075\n",
      "Epoch 6: Metric: 0.9076550602912903\n",
      "Epoch 7: Metric: 0.9145600199699402\n",
      "Epoch 8: Metric: 0.9204342365264893\n",
      "Epoch 9: Metric: 0.9261152744293213\n"
     ]
    }
   ],
   "source": [
    "learn.fit(10)"
   ]
  },
  {
   "cell_type": "markdown",
   "metadata": {},
   "source": [
    "# Baseline on validation set"
   ]
  },
  {
   "cell_type": "code",
   "execution_count": 47,
   "metadata": {},
   "outputs": [
    {
     "data": {
      "text/plain": [
       "['DT', 'NNS', 'VBD', 'DT', 'NNP', 'POS', 'NN', 'VBZ', 'TO', 'VB']"
      ]
     },
     "execution_count": 47,
     "metadata": {},
     "output_type": "execute_result"
    }
   ],
   "source": [
    "val_tags = torch.cat(y_val)\n",
    "val_tags_dec = tag_tfm.decode(val_tags)\n",
    "val_tags_dec[:10]"
   ]
  },
  {
   "cell_type": "code",
   "execution_count": 49,
   "metadata": {},
   "outputs": [
    {
     "data": {
      "text/plain": [
       "[('NN', 2926),\n",
       " ('IN', 1964),\n",
       " ('NNP', 1805),\n",
       " ('DT', 1625),\n",
       " ('NNS', 1133),\n",
       " ('JJ', 1094),\n",
       " ('CD', 1041),\n",
       " (',', 934),\n",
       " ('.', 768),\n",
       " ('VBD', 747)]"
      ]
     },
     "execution_count": 49,
     "metadata": {},
     "output_type": "execute_result"
    }
   ],
   "source": [
    "most_common = Counter(val_tags_dec).most_common()\n",
    "most_common[:10]"
   ]
  },
  {
   "cell_type": "code",
   "execution_count": 62,
   "metadata": {},
   "outputs": [],
   "source": [
    "def bar_chart(items):\n",
    "    tags,freqs = zip(*items)\n",
    "    xi = range(len(tags))\n",
    "    \n",
    "    fig, ax = plt.subplots()\n",
    "    ax.bar(xi, freqs)\n",
    "    plt.xticks(xi, tags)\n",
    "    plt.show()"
   ]
  },
  {
   "cell_type": "code",
   "execution_count": 68,
   "metadata": {},
   "outputs": [
    {
     "data": {
      "image/png": "[encoded data removed]",
      "text/plain": [
       "<Figure size 432x288 with 1 Axes>"
      ]
     },
     "metadata": {
      "needs_background": "light"
     },
     "output_type": "display_data"
    }
   ],
   "source": [
    "bar_chart(most_common[:16])"
   ]
  },
  {
   "cell_type": "code",
   "execution_count": 70,
   "metadata": {},
   "outputs": [
    {
     "data": {
      "text/plain": [
       "('NN', 2926)"
      ]
     },
     "execution_count": 70,
     "metadata": {},
     "output_type": "execute_result"
    }
   ],
   "source": [
    "most_common[0]"
   ]
  },
  {
   "cell_type": "code",
   "execution_count": 71,
   "metadata": {},
   "outputs": [
    {
     "data": {
      "text/plain": [
       "2926"
      ]
     },
     "execution_count": 71,
     "metadata": {},
     "output_type": "execute_result"
    }
   ],
   "source": [
    "most_common_freq = most_common[0][1]\n",
    "most_common_freq"
   ]
  },
  {
   "cell_type": "code",
   "execution_count": 72,
   "metadata": {},
   "outputs": [
    {
     "data": {
      "text/plain": [
       "18818"
      ]
     },
     "execution_count": 72,
     "metadata": {},
     "output_type": "execute_result"
    }
   ],
   "source": [
    "total_freqs = len(val_tags_dec)\n",
    "total_freqs"
   ]
  },
  {
   "cell_type": "code",
   "execution_count": 73,
   "metadata": {},
   "outputs": [
    {
     "data": {
      "text/plain": [
       "0.15548942501859922"
      ]
     },
     "execution_count": 73,
     "metadata": {},
     "output_type": "execute_result"
    }
   ],
   "source": [
    "most_common_freq / total_freqs"
   ]
  },
  {
   "cell_type": "markdown",
   "metadata": {},
   "source": [
    "So on the validation set, we would get less than 16% accuracy by predicting the most common tag."
   ]
  },
  {
   "cell_type": "markdown",
   "metadata": {},
   "source": [
    "## Plot curves"
   ]
  },
  {
   "cell_type": "code",
   "execution_count": 74,
   "metadata": {},
   "outputs": [],
   "source": [
    "def plot(log):\n",
    "    epoch = range(len(log))\n",
    "    fig, ax = plt.subplots()\n",
    "    ax.plot(epoch, log)\n",
    "    ax.grid()\n",
    "    plt.show()"
   ]
  },
  {
   "cell_type": "code",
   "execution_count": 75,
   "metadata": {},
   "outputs": [
    {
     "data": {
      "image/png": "[encoded data removed]",
      "text/plain": [
       "<Figure size 432x288 with 1 Axes>"
      ]
     },
     "metadata": {
      "needs_background": "light"
     },
     "output_type": "display_data"
    }
   ],
   "source": [
    "plot(learn.metric_log)"
   ]
  },
  {
   "cell_type": "markdown",
   "metadata": {},
   "source": [
    "# Inference"
   ]
  },
  {
   "cell_type": "code",
   "execution_count": 77,
   "metadata": {},
   "outputs": [
    {
     "data": {
      "text/plain": [
       "torch.Size([1, 29, 45])"
      ]
     },
     "execution_count": 77,
     "metadata": {},
     "output_type": "execute_result"
    }
   ],
   "source": [
    "pred = learn.model(x_val[0][None,:])\n",
    "pred.shape"
   ]
  },
  {
   "cell_type": "code",
   "execution_count": 78,
   "metadata": {},
   "outputs": [
    {
     "data": {
      "text/plain": [
       "torch.Size([1, 29])"
      ]
     },
     "execution_count": 78,
     "metadata": {},
     "output_type": "execute_result"
    }
   ],
   "source": [
    "nums = pred.argmax(dim=-1)\n",
    "nums.shape"
   ]
  },
  {
   "cell_type": "code",
   "execution_count": 79,
   "metadata": {},
   "outputs": [
    {
     "data": {
      "text/plain": [
       "tensor([ 3,  4,  9,  3,  2, 20,  0, 15, 13, 11,  0,  0,  4, 10,  0,  0,  1,  3,\n",
       "         4,  6, 14,  8,  1, 21,  3,  0, 19, 11,  7])"
      ]
     },
     "execution_count": 79,
     "metadata": {},
     "output_type": "execute_result"
    }
   ],
   "source": [
    "nums = nums.squeeze()\n",
    "nums"
   ]
  },
  {
   "cell_type": "code",
   "execution_count": 81,
   "metadata": {},
   "outputs": [],
   "source": [
    "import pandas as pd"
   ]
  },
  {
   "cell_type": "code",
   "execution_count": 83,
   "metadata": {},
   "outputs": [
    {
     "data": {
      "text/plain": [
       "[('Some', 'DT', 'DT'),\n",
       " ('dealers', 'NNS', 'NNS'),\n",
       " ('said', 'VBD', 'VBD'),\n",
       " ('the', 'DT', 'DT'),\n",
       " ('Treasury', 'NNP', 'NNP'),\n",
       " (\"'s\", 'POS', 'POS'),\n",
       " ('intent', 'NN', 'NN'),\n",
       " ('is', 'VBZ', 'VBZ'),\n",
       " ('to', 'TO', 'TO'),\n",
       " ('help', 'VB', 'VB'),\n",
       " ('government', 'NN', 'NN'),\n",
       " ('bond', 'NN', 'NN'),\n",
       " ('dealers', 'NNS', 'NNS'),\n",
       " ('gauge', 'VB', 'RB'),\n",
       " ('investor', 'NN', 'NN'),\n",
       " ('demand', 'NN', 'NN'),\n",
       " ('for', 'IN', 'IN'),\n",
       " ('the', 'DT', 'DT'),\n",
       " ('securities', 'NNS', 'NNS'),\n",
       " (',', ',', ','),\n",
       " ('given', 'VBN', 'VBN'),\n",
       " ('uncertainties', 'NNS', 'CD'),\n",
       " ('about', 'IN', 'IN'),\n",
       " ('when', 'WRB', 'PRP$'),\n",
       " ('the', 'DT', 'DT'),\n",
       " ('auction', 'NN', 'NN'),\n",
       " ('will', 'MD', 'MD'),\n",
       " ('occur', 'VB', 'VB'),\n",
       " ('.', '.', '.')]"
      ]
     },
     "execution_count": 83,
     "metadata": {},
     "output_type": "execute_result"
    }
   ],
   "source": [
    "list(zip(tok_tfm.decode(x_val[0]), tag_tfm.decode(y_val[0]), tag_tfm.decode(nums)))"
   ]
  },
  {
   "cell_type": "code",
   "execution_count": null,
   "metadata": {},
   "outputs": [],
   "source": [
    "tok_tfm.decode"
   ]
  },
  {
   "cell_type": "code",
   "execution_count": 97,
   "metadata": {
    "scrolled": false
   },
   "outputs": [
    {
     "data": {
      "text/html": [
       "<div>\n",
       "<style scoped>\n",
       "    .dataframe tbody tr th:only-of-type {\n",
       "        vertical-align: middle;\n",
       "    }\n",
       "\n",
       "    .dataframe tbody tr th {\n",
       "        vertical-align: top;\n",
       "    }\n",
       "\n",
       "    .dataframe thead th {\n",
       "        text-align: right;\n",
       "    }\n",
       "</style>\n",
       "<table border=\"1\" class=\"dataframe\">\n",
       "  <thead>\n",
       "    <tr style=\"text-align: right;\">\n",
       "      <th></th>\n",
       "      <th>Token</th>\n",
       "      <th>Label</th>\n",
       "      <th>Pred</th>\n",
       "      <th>Correct</th>\n",
       "    </tr>\n",
       "  </thead>\n",
       "  <tbody>\n",
       "    <tr>\n",
       "      <th>0</th>\n",
       "      <td>Until</td>\n",
       "      <td>IN</td>\n",
       "      <td>NNP</td>\n",
       "      <td>False</td>\n",
       "    </tr>\n",
       "    <tr>\n",
       "      <th>1</th>\n",
       "      <td>such</td>\n",
       "      <td>JJ</td>\n",
       "      <td>JJ</td>\n",
       "      <td>True</td>\n",
       "    </tr>\n",
       "    <tr>\n",
       "      <th>2</th>\n",
       "      <td>action</td>\n",
       "      <td>NN</td>\n",
       "      <td>NN</td>\n",
       "      <td>True</td>\n",
       "    </tr>\n",
       "    <tr>\n",
       "      <th>3</th>\n",
       "      <td>takes</td>\n",
       "      <td>VBZ</td>\n",
       "      <td>VBZ</td>\n",
       "      <td>True</td>\n",
       "    </tr>\n",
       "    <tr>\n",
       "      <th>4</th>\n",
       "      <td>places</td>\n",
       "      <td>NNS</td>\n",
       "      <td>NNS</td>\n",
       "      <td>True</td>\n",
       "    </tr>\n",
       "    <tr>\n",
       "      <th>5</th>\n",
       "      <td>,</td>\n",
       "      <td>,</td>\n",
       "      <td>,</td>\n",
       "      <td>True</td>\n",
       "    </tr>\n",
       "    <tr>\n",
       "      <th>6</th>\n",
       "      <td>the</td>\n",
       "      <td>DT</td>\n",
       "      <td>DT</td>\n",
       "      <td>True</td>\n",
       "    </tr>\n",
       "    <tr>\n",
       "      <th>7</th>\n",
       "      <td>Treasury</td>\n",
       "      <td>NNP</td>\n",
       "      <td>NNP</td>\n",
       "      <td>True</td>\n",
       "    </tr>\n",
       "    <tr>\n",
       "      <th>8</th>\n",
       "      <td>has</td>\n",
       "      <td>VBZ</td>\n",
       "      <td>VBZ</td>\n",
       "      <td>True</td>\n",
       "    </tr>\n",
       "    <tr>\n",
       "      <th>9</th>\n",
       "      <td>no</td>\n",
       "      <td>DT</td>\n",
       "      <td>DT</td>\n",
       "      <td>True</td>\n",
       "    </tr>\n",
       "    <tr>\n",
       "      <th>10</th>\n",
       "      <td>ability</td>\n",
       "      <td>NN</td>\n",
       "      <td>NN</td>\n",
       "      <td>True</td>\n",
       "    </tr>\n",
       "    <tr>\n",
       "      <th>11</th>\n",
       "      <td>to</td>\n",
       "      <td>TO</td>\n",
       "      <td>TO</td>\n",
       "      <td>True</td>\n",
       "    </tr>\n",
       "    <tr>\n",
       "      <th>12</th>\n",
       "      <td>issue</td>\n",
       "      <td>VB</td>\n",
       "      <td>VB</td>\n",
       "      <td>True</td>\n",
       "    </tr>\n",
       "    <tr>\n",
       "      <th>13</th>\n",
       "      <td>new</td>\n",
       "      <td>JJ</td>\n",
       "      <td>JJ</td>\n",
       "      <td>True</td>\n",
       "    </tr>\n",
       "    <tr>\n",
       "      <th>14</th>\n",
       "      <td>debt</td>\n",
       "      <td>NN</td>\n",
       "      <td>NN</td>\n",
       "      <td>True</td>\n",
       "    </tr>\n",
       "    <tr>\n",
       "      <th>15</th>\n",
       "      <td>of</td>\n",
       "      <td>IN</td>\n",
       "      <td>IN</td>\n",
       "      <td>True</td>\n",
       "    </tr>\n",
       "    <tr>\n",
       "      <th>16</th>\n",
       "      <td>any</td>\n",
       "      <td>DT</td>\n",
       "      <td>DT</td>\n",
       "      <td>True</td>\n",
       "    </tr>\n",
       "    <tr>\n",
       "      <th>17</th>\n",
       "      <td>kind</td>\n",
       "      <td>NN</td>\n",
       "      <td>NN</td>\n",
       "      <td>True</td>\n",
       "    </tr>\n",
       "    <tr>\n",
       "      <th>18</th>\n",
       "      <td>.</td>\n",
       "      <td>.</td>\n",
       "      <td>.</td>\n",
       "      <td>True</td>\n",
       "    </tr>\n",
       "  </tbody>\n",
       "</table>\n",
       "</div>"
      ],
      "text/plain": [
       "       Token Label Pred  Correct\n",
       "0      Until    IN  NNP    False\n",
       "1       such    JJ   JJ     True\n",
       "2     action    NN   NN     True\n",
       "3      takes   VBZ  VBZ     True\n",
       "4     places   NNS  NNS     True\n",
       "5          ,     ,    ,     True\n",
       "6        the    DT   DT     True\n",
       "7   Treasury   NNP  NNP     True\n",
       "8        has   VBZ  VBZ     True\n",
       "9         no    DT   DT     True\n",
       "10   ability    NN   NN     True\n",
       "11        to    TO   TO     True\n",
       "12     issue    VB   VB     True\n",
       "13       new    JJ   JJ     True\n",
       "14      debt    NN   NN     True\n",
       "15        of    IN   IN     True\n",
       "16       any    DT   DT     True\n",
       "17      kind    NN   NN     True\n",
       "18         .     .    .     True"
      ]
     },
     "execution_count": 97,
     "metadata": {},
     "output_type": "execute_result"
    }
   ],
   "source": [
    "idx = 2\n",
    "tokens = tok_tfm.decode(x_val[idx])\n",
    "labels = tag_tfm.decode(y_val[idx])\n",
    "preds = tag_tfm.decode(learn.model(x_val[idx][None,:]).argmax(dim=-1).squeeze())\n",
    "df = pd.DataFrame({'Token': tokens, 'Label': labels, 'Pred': preds})\n",
    "df['Correct'] = df['Label'] == df['Pred']\n",
    "df"
   ]
  },
  {
   "cell_type": "markdown",
   "metadata": {},
   "source": [
    "Next steps:"
   ]
  },
  {
   "cell_type": "markdown",
   "metadata": {},
   "source": [
    "- analyze model's most common errors, and try to improve model based on those"
   ]
  },
  {
   "cell_type": "markdown",
   "metadata": {},
   "source": [
    "- create Recorder class to log losses/metrics over all epochs"
   ]
  },
  {
   "cell_type": "markdown",
   "metadata": {},
   "source": [
    "- record avg accuracy per tag overall"
   ]
  },
  {
   "cell_type": "markdown",
   "metadata": {},
   "source": [
    "save best model\n",
    "- after every epoch, if current params are better than saved params, save current params and delete old params\n",
    "- only have 1 model saved at a time, to save space\n",
    "- never lose best model's params"
   ]
  },
  {
   "cell_type": "markdown",
   "metadata": {},
   "source": [
    "- tokenize from raw sentences"
   ]
  },
  {
   "cell_type": "markdown",
   "metadata": {},
   "source": [
    "- add docstrings for my functions"
   ]
  },
  {
   "cell_type": "markdown",
   "metadata": {},
   "source": [
    "- add tests for my functions"
   ]
  }
 ],
 "metadata": {
  "kernelspec": {
   "display_name": "Python 3",
   "language": "python",
   "name": "python3"
  },
  "language_info": {
   "codemirror_mode": {
    "name": "ipython",
    "version": 3
   },
   "file_extension": ".py",
   "mimetype": "text/x-python",
   "name": "python",
   "nbconvert_exporter": "python",
   "pygments_lexer": "ipython3",
   "version": "3.8.6"
  }
 },
 "nbformat": 4,
 "nbformat_minor": 4
}
